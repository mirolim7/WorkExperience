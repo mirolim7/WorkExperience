{
 "cells": [
  {
   "cell_type": "markdown",
   "id": "fdbd175c",
   "metadata": {},
   "source": [
    "# This notebook parses data from website, exactly from pricelist, then it compares and merges with data taken from the directory by adding comments where needed and sets style to the file and exports as an excel file."
   ]
  },
  {
   "cell_type": "markdown",
   "id": "85220ca8",
   "metadata": {},
   "source": [
    "Firstly, import some libraries needed to work in this notebook."
   ]
  },
  {
   "cell_type": "code",
   "execution_count": 1,
   "id": "f359cf6f",
   "metadata": {},
   "outputs": [],
   "source": [
    "import pandas as pd \n",
    "import numpy as np\n",
    "import openpyxl\n",
    "import xlsxwriter \n",
    "from bs4 import BeautifulSoup as bs\n",
    "import requests\n",
    "from openpyxl import Workbook"
   ]
  },
  {
   "cell_type": "markdown",
   "id": "e4725472",
   "metadata": {},
   "source": [
    "Saving cities as a dictionary"
   ]
  },
  {
   "cell_type": "code",
   "execution_count": 2,
   "id": "a3fe9850",
   "metadata": {},
   "outputs": [],
   "source": [
    "cities = {\n",
    "    'Астана' : 'astana', \n",
    "    'Актау' : 'aktau',\n",
    "    'Актобе' : 'aktobe',\n",
    "    'Алматы' : 'almaty',\n",
    "    'Атырау' : 'atyrau',\n",
    "    'Караганда' : 'karaganda',\n",
    "    'Кокшетау' : 'kokshetau',\n",
    "    'Костанай' : 'kostanay',\n",
    "    'Кызылорда' : 'kyzylorda',\n",
    "    'Павлодар' : 'pavlodar',\n",
    "    'Петропавловск' : 'petropavlovsk',\n",
    "    'Талдыкорган' : 'taldykorgan',\n",
    "    'Тараз' : 'taraz',\n",
    "    'Туркестан' : 'turkestan',\n",
    "    'Уральск' : 'uralsk',\n",
    "    'Усть-Каменогорск' : 'ust-kamenogorsk',\n",
    "    'Шымкент' : 'shymkent'\n",
    "}"
   ]
  },
  {
   "cell_type": "markdown",
   "id": "474e3f54",
   "metadata": {},
   "source": [
    "Defining the URL as an address for pricelist"
   ]
  },
  {
   "cell_type": "code",
   "execution_count": 3,
   "id": "c597030e",
   "metadata": {},
   "outputs": [],
   "source": [
    "URL = 'url'"
   ]
  },
  {
   "cell_type": "markdown",
   "id": "110eeb52",
   "metadata": {},
   "source": [
    "Setting variable city_var as a name of the city in cyrillic"
   ]
  },
  {
   "cell_type": "code",
   "execution_count": 4,
   "id": "2754b604",
   "metadata": {},
   "outputs": [],
   "source": [
    "city_var = 'city'"
   ]
  },
  {
   "cell_type": "markdown",
   "id": "fad871d8",
   "metadata": {},
   "source": [
    "Setting paths and names of files for input and output "
   ]
  },
  {
   "cell_type": "code",
   "execution_count": 5,
   "id": "c7492163",
   "metadata": {},
   "outputs": [],
   "source": [
    "path = '..\\\\data\\\\by_cities\\\\astana\\\\'\n",
    "input_file = path + 'input_file'\n",
    "output_file = path + 'output_file'\n",
    "ext = '.xlsx'"
   ]
  },
  {
   "cell_type": "code",
   "execution_count": 6,
   "id": "93375d5c",
   "metadata": {
    "scrolled": false
   },
   "outputs": [],
   "source": [
    "workbook = Workbook()\n",
    "workbook.save(output_file)\n",
    "writer = pd.ExcelWriter(output_file, engine = 'xlsxwriter')"
   ]
  },
  {
   "cell_type": "markdown",
   "id": "1b2380d3",
   "metadata": {},
   "source": [
    "Reading data from the directory with pricelist data in LIS"
   ]
  },
  {
   "cell_type": "code",
   "execution_count": 7,
   "id": "23ad8010",
   "metadata": {},
   "outputs": [
    {
     "data": {
      "text/plain": [
       "(3506, 3)"
      ]
     },
     "execution_count": 7,
     "metadata": {},
     "output_type": "execute_result"
    }
   ],
   "source": [
    "df_pl_lis = pd.read_excel(path + 'file_to_merge', sheet_name=city_var)\n",
    "df_pl_lis.rename(columns={'Код': 'Код_услуги', 'Название': 'Название_ЛИС', 'Группа услуг': 'Подразделение'}, inplace=True)\n",
    "\n",
    "df_pl_lis.shape"
   ]
  },
  {
   "cell_type": "markdown",
   "id": "8dfccc04",
   "metadata": {},
   "source": [
    "Reading data for recent months from the LIS "
   ]
  },
  {
   "cell_type": "code",
   "execution_count": 8,
   "id": "39447096",
   "metadata": {},
   "outputs": [
    {
     "data": {
      "text/plain": [
       "(999, 6)"
      ]
     },
     "execution_count": 8,
     "metadata": {},
     "output_type": "execute_result"
    }
   ],
   "source": [
    "df_lis = pd.read_excel(input_file)\n",
    "\n",
    "df_lis.shape"
   ]
  },
  {
   "cell_type": "markdown",
   "id": "095e447b",
   "metadata": {},
   "source": [
    "Function for parsing data from the city's pricelist"
   ]
  },
  {
   "cell_type": "code",
   "execution_count": 9,
   "id": "5ad9bd7b",
   "metadata": {},
   "outputs": [],
   "source": [
    "def parse_city(city_var):\n",
    "    \n",
    "    content = requests.get(URL + cities[city_var])\n",
    "    \n",
    "    soup = bs(content.text, 'lxml')\n",
    "    \n",
    "    service_rows = soup.find_all('div', {'class' : 'service-row'})\n",
    "    print('Количество всех услуг по городу ', city_var, ': ', len(service_rows))\n",
    "    \n",
    "    records = []\n",
    "    \n",
    "    for r in service_rows:\n",
    "    \n",
    "        service_name = r.find('div', {'class' : 'service-row__item service-title wide-title-cell'}).text #название услуги\n",
    "        \n",
    "        service_code = r.find('span', {'class' : 'add-to-cart'})['data-code'] #код услуги\n",
    "        service_code = service_code.replace('В', 'B').replace(' ', '').replace('С', 'C').replace('Н', 'H').replace('М', 'M').replace('Т', 'T').replace('К', 'K').replace('А', 'A').replace('О', 'O').replace('Р', 'P').replace('р', 'p').replace('а', 'a').replace('', '')\n",
    "        \n",
    "        time = r.find('div', {'class': 'service-row__item period normal'}).text #указанный срок\n",
    "        \n",
    "        if time:\n",
    "            \n",
    "            time = time.replace(' ', '').replace('д.', '').replace('до', '').replace('от', '').replace('дней', '')\n",
    "        \n",
    "            if len(time.split('-')) == 2:\n",
    "                time1, time2 = time.split('-')\n",
    "            \n",
    "            else:\n",
    "                time1 = time2 = time\n",
    "        \n",
    "        else:\n",
    "            time1 = time2 = time\n",
    "        \n",
    "        \n",
    "        records.append({\n",
    "            'Код_услуги' : service_code,\n",
    "            'Услуга' : service_name,\n",
    "            'ПЛ_мин' : time1,\n",
    "            'ПЛ_макс' : time2\n",
    "        })\n",
    "        \n",
    "        #print(len(records))\n",
    "    \n",
    "    df_parsed = pd.DataFrame(records)\n",
    "    \n",
    "    return df_parsed"
   ]
  },
  {
   "cell_type": "markdown",
   "id": "55801fea",
   "metadata": {},
   "source": [
    "Function for finding if service code is not in LIS pricelist directory"
   ]
  },
  {
   "cell_type": "code",
   "execution_count": 10,
   "id": "30d799f1",
   "metadata": {},
   "outputs": [],
   "source": [
    "def check_codes(df1, df2):\n",
    "    df1_codes = df1['Код_услуги'].tolist()\n",
    "    df2_codes = df2['Код_услуги'].tolist()\n",
    "\n",
    "    not_in_df2 = []\n",
    "\n",
    "    for i in df1_codes:\n",
    "        if i not in df2_codes:\n",
    "            not_in_df2.append(i)\n",
    "            \n",
    "    return not_in_df2"
   ]
  },
  {
   "cell_type": "markdown",
   "id": "6398aa81",
   "metadata": {},
   "source": [
    "Function for coloring rows with difference"
   ]
  },
  {
   "cell_type": "code",
   "execution_count": 11,
   "id": "d2cc2f3e",
   "metadata": {},
   "outputs": [],
   "source": [
    "def color_rows(row):\n",
    "    \n",
    "    min_1 = row['ПЛ_мин']\n",
    "    min_2 = row['ЛИС_мин']\n",
    "    qty = row['Количество']\n",
    "    \n",
    "    if qty >= 100:\n",
    "        if min_1 and min_2 and pd.notnull(min_1) and pd.notnull(min_2):\n",
    "    \n",
    "            if float(min_1) > float(min_2):\n",
    "                color = '#83ff83' #green\n",
    "        \n",
    "            elif float(min_1) < float(min_2):\n",
    "                color = '#ff5050' #red\n",
    "        \n",
    "            else:\n",
    "                color = 'white'\n",
    "            \n",
    "        else:\n",
    "            color = 'white'\n",
    "    \n",
    "    else:\n",
    "        color = 'white'\n",
    "            \n",
    "    return ['background-color: {}'.format(color) for r in row] #; border-style: solid; border: 1px solid #808080; grey;"
   ]
  },
  {
   "cell_type": "markdown",
   "id": "849cfa8e",
   "metadata": {},
   "source": [
    "The below code is like main, where the all operations and functions applied"
   ]
  },
  {
   "cell_type": "code",
   "execution_count": 12,
   "id": "9bfb3ddc",
   "metadata": {},
   "outputs": [
    {
     "name": "stdout",
     "output_type": "stream",
     "text": [
      "Количество всех услуг по городу  Астана :  1380\n",
      "Количество строк и столбцов записанных в таблицу:  (1380, 4)\n",
      "Размер итогового датафрейма:  (1402, 11)\n",
      "Данные по городу  Астана  были выгружены.\n",
      "\n"
     ]
    }
   ],
   "source": [
    "df_parsed = parse_city(city_var)\n",
    "    \n",
    "print('Количество строк и столбцов записанных в таблицу: ', df_parsed.shape)\n",
    "\n",
    "pl_lis_codes = df_pl_lis['Код_услуги'].tolist()\n",
    "lis_codes = df_lis['Код_услуги'].tolist()\n",
    "\n",
    "df_merged = pd.merge(df_parsed, df_pl_lis, how = 'left')\n",
    "\n",
    "df_merged['Комментарий'] = ''\n",
    "df_merged['Примечание'] = ''\n",
    "\n",
    "for i, r in df_merged.iterrows():\n",
    "    \n",
    "    if r['Код_услуги'] not in pl_lis_codes:\n",
    "        df_merged.at[i, 'Комментарий'] = 'нет в ЛИСе'\n",
    "    else:\n",
    "        if r['Услуга'] != r['Название_ЛИС']:\n",
    "            df_merged.at[i, 'Примечание'] = 'не совпадает наименование'\n",
    "        \n",
    "    if r['Код_услуги'] not in lis_codes:\n",
    "        df_merged.at[i, 'Комментарий'] = 'не заказывали'\n",
    "\n",
    "final = pd.merge(df_merged, df_lis, how = 'left')\n",
    "\n",
    "final = final[['Подразделение', 'Код_услуги', 'Услуга', 'Название_ЛИС', 'ПЛ_мин', 'ПЛ_макс', 'ЛИС_мин', 'ЛИС_макс', 'Количество', 'Комментарий', 'Примечание']]\n",
    "print('Размер итогового датафрейма: ', final.shape)\n",
    "\n",
    "final['Количество'] = final['Количество'].fillna(0)\n",
    "final['ЛИС_мин'] = final['ЛИС_мин'].replace(0, 1).replace('0', '1')\n",
    "final['ЛИС_макс'] = final['ЛИС_макс'].replace(0, 1).replace('0', '1')\n",
    "\n",
    "styled = final.style.apply(color_rows, axis=1)\n",
    "\n",
    "styled = styled.set_properties(**{'border-color': 'gray', 'border-width': '1px', 'border-style': 'solid'})\n",
    "    \n",
    "styled.to_excel(writer, index=False)\n",
    "    \n",
    "print('Данные по городу ', city_var, ' были выгружены.')\n",
    "print()"
   ]
  },
  {
   "cell_type": "code",
   "execution_count": 13,
   "id": "5267329b",
   "metadata": {},
   "outputs": [
    {
     "name": "stdout",
     "output_type": "stream",
     "text": [
      "The task is completed!\n"
     ]
    }
   ],
   "source": [
    "writer.close()\n",
    "print('The task is completed!')"
   ]
  },
  {
   "cell_type": "code",
   "execution_count": null,
   "id": "f5543f61",
   "metadata": {},
   "outputs": [],
   "source": []
  },
  {
   "cell_type": "code",
   "execution_count": null,
   "id": "71942fd1",
   "metadata": {},
   "outputs": [],
   "source": []
  }
 ],
 "metadata": {
  "kernelspec": {
   "display_name": "Python 3 (ipykernel)",
   "language": "python",
   "name": "python3"
  },
  "language_info": {
   "codemirror_mode": {
    "name": "ipython",
    "version": 3
   },
   "file_extension": ".py",
   "mimetype": "text/x-python",
   "name": "python",
   "nbconvert_exporter": "python",
   "pygments_lexer": "ipython3",
   "version": "3.9.13"
  }
 },
 "nbformat": 4,
 "nbformat_minor": 5
}
